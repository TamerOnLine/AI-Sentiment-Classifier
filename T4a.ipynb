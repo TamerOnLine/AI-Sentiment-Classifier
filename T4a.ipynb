{
 "cells": [
  {
   "cell_type": "markdown",
   "metadata": {},
   "source": [
    "# Build a Sentiment Analysis System Using LangChain and Ollama\n",
    "**Requirements:**\n",
    "-   Use LangChain integrated with Ollama to build a sentiment analysis system.\n",
    "-   The system should classify text inputs (e.g., product reviews, social media posts) into positive, negative, or neutral sentiment.\n",
    "-   Use a pre-trained model (ollama) to handle text embedding and sentiment classification.\n"
   ]
  },
  {
   "cell_type": "code",
   "execution_count": 40,
   "metadata": {},
   "outputs": [
    {
     "name": "stdout",
     "output_type": "stream",
     "text": [
      "Response: النص \"ناقص\" يحتوي على مشاعر سلبية.\n"
     ]
    }
   ],
   "source": [
    "import ollama\n",
    "\n",
    "\n",
    "def sentiment_analysis(text):\n",
    "    model = \"llama3.2\"  \n",
    "    prompt = f\"حلل مشاعر النص التالي وصنفه إلى إيجابي أو سلبي أو محايد:\\n\\n{text}\"\n",
    "    \n",
    "    response = ollama.generate(model=model, prompt=prompt)\n",
    "    \n",
    "    return response['response']\n",
    "\n",
    "\n",
    "text = input(\"ادخل التعليق المناسب\")\n",
    "response = sentiment_analysis(text)\n",
    "\n",
    "\n",
    "print(f\"Response: {response}\")\n"
   ]
  }
 ],
 "metadata": {
  "kernelspec": {
   "display_name": "myenv",
   "language": "python",
   "name": "python3"
  },
  "language_info": {
   "codemirror_mode": {
    "name": "ipython",
    "version": 3
   },
   "file_extension": ".py",
   "mimetype": "text/x-python",
   "name": "python",
   "nbconvert_exporter": "python",
   "pygments_lexer": "ipython3",
   "version": "3.12.5"
  }
 },
 "nbformat": 4,
 "nbformat_minor": 2
}
