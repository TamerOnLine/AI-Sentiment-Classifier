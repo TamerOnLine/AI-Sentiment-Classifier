{
 "cells": [
  {
   "cell_type": "code",
   "execution_count": 3,
   "metadata": {},
   "outputs": [
    {
     "name": "stdout",
     "output_type": "stream",
     "text": [
      "esult: النص تحتاج إلى تعريف ما هي مشاعرة النص لكي يتم حلها.\n",
      "\n",
      "esult: المشاعر في النص السابق تكون سلبياً.منتج.\n",
      "\n",
      "esult: المشاعر في النص السابق محايدة، حيث تقدم تعبيرًا سلبًا عن المنتج (\"يمكن أن يكون أسوأ\") مع تعبير إيجابي (\"المنتج جيد\").\n",
      "\n"
     ]
    }
   ],
   "source": [
    "from langchain import PromptTemplate, LLMChain\n",
    "from langchain.llms import Ollama  \n",
    "\n",
    "\n",
    "prompt_template = PromptTemplate(\n",
    "    input_variables=[\"text\"],\n",
    "    template=\"حلل مشاعر النص التالي وصنفه إلى إيجابي أو سلبي أو محايد:\\n\\n{text}\"\n",
    ")\n",
    "\n",
    "\n",
    "llm = Ollama(model=\"llama3.2\")\n",
    "\n",
    "\n",
    "llm_chain = LLMChain(\n",
    "    llm=llm,\n",
    "    prompt=prompt_template\n",
    ")\n",
    "\n",
    "\n",
    "texts = [\n",
    "    \"المنتج كان رائعًا جدًا وسهل الاستخدام.\",\n",
    "    \"التجربة سيئة للغاية. لا أوصي بهذا المنتج.\",\n",
    "    \"المنتج جيد ولكن يمكن أن يكون أفضل.\"\n",
    "]\n",
    "\n",
    "\n",
    "for text in texts:\n",
    "    result = llm_chain.run(text)\n",
    "    print(f\"text: {text}\\result: {result}\\n\")\n"
   ]
  }
 ],
 "metadata": {
  "kernelspec": {
   "display_name": "myenv",
   "language": "python",
   "name": "python3"
  },
  "language_info": {
   "codemirror_mode": {
    "name": "ipython",
    "version": 3
   },
   "file_extension": ".py",
   "mimetype": "text/x-python",
   "name": "python",
   "nbconvert_exporter": "python",
   "pygments_lexer": "ipython3",
   "version": "3.12.5"
  }
 },
 "nbformat": 4,
 "nbformat_minor": 2
}
